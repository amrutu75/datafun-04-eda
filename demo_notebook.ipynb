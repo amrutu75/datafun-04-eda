{
 "cells": [
  {
   "cell_type": "markdown",
   "id": "96e0c79f",
   "metadata": {},
   "source": [
    "Agnes Mrutu Notebook - Intr to jupyter Notebooks\n",
    "Author: Agnes Mrutu\n",
    "Prepository: datafun-04-eda\n",
    "\n",
    "Section 1. Getting Started\n",
    "This is a Markdown cell (not a Python cell). Here are a few tips to help you get started with Jupyter Notebooks:\n",
    "\n",
    "To run a cell, press Ctrl+Enter (or Cmd+Enter on Mac) when you're done editing the cell.\n",
    "You can change the type of a cell (e.g., code or markdown) by looking in the lower left corner of the notebook interface.\n",
    "You can rearrange cells by dragging and dropping them within the notebook.\n",
    "After creating a new notebook, use File > Save as to rename and save it into your repository folder.\n",
    "To select a kernel (Python environment) for your notebook in Visual Studio Code, click on the Select Kernel name in the top-right corner of the notebook interface and choose the desired kernel from the dropdown menu. Follow suggestions to install recommended extensions. Once installed, click Select Kernel / Python Environments and choose the Recommended .venv option we created earlier. This will create a new kernel for the notebook and allow you to run code in the notebook using the packages installed in the virtual environment."
   ]
  },
  {
   "cell_type": "markdown",
   "id": "28d4d791",
   "metadata": {},
   "source": [
    "Section 2. Imports"
   ]
  }
 ],
 "metadata": {
  "kernelspec": {
   "display_name": "Python 3 (ipykernel)",
   "language": "python",
   "name": "python3"
  },
  "language_info": {
   "codemirror_mode": {
    "name": "ipython",
    "version": 3
   },
   "file_extension": ".py",
   "mimetype": "text/x-python",
   "name": "python",
   "nbconvert_exporter": "python",
   "pygments_lexer": "ipython3",
   "version": "3.13.5"
  }
 },
 "nbformat": 4,
 "nbformat_minor": 5
}
